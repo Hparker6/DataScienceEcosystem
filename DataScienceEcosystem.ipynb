{
 "cells": [
  {
   "cell_type": "markdown",
   "id": "e64e254f",
   "metadata": {},
   "source": [
    "# Data Science Tools and Ecosystem"
   ]
  },
  {
   "cell_type": "markdown",
   "id": "6848862d",
   "metadata": {},
   "source": [
    "# In this notebook, Data Science Tools and Ecosystem are summarized."
   ]
  },
  {
   "cell_type": "markdown",
   "id": "e719a6e4",
   "metadata": {},
   "source": [
    "# Some of the popular languages that Data Scientists use are:"
   ]
  },
  {
   "cell_type": "code",
   "execution_count": 3,
   "id": "02cb6509",
   "metadata": {},
   "outputs": [],
   "source": [
    "languages = [\"1) Python\", \"2) R\", \"3) Ruby\"]"
   ]
  },
  {
   "cell_type": "markdown",
   "id": "7318a68a",
   "metadata": {},
   "source": [
    "# Some of the commonly used libraries used by Data Scientists include:"
   ]
  },
  {
   "cell_type": "code",
   "execution_count": null,
   "id": "146d2c86",
   "metadata": {},
   "outputs": [],
   "source": [
    "libraries = [\"1) Matplotlib\", \"2) Pandas\", \"3) Numpy\"]"
   ]
  },
  {
   "cell_type": "markdown",
   "id": "846a5182",
   "metadata": {},
   "source": [
    "| Data Science Tools |\n",
    "| ------------------ |\n",
    "| Jupyter Notebook   |\n",
    "| RStudio            |\n",
    "| VS Code with Python extension |"
   ]
  },
  {
   "cell_type": "markdown",
   "id": "418ccace",
   "metadata": {},
   "source": [
    "# Below are a few examples of evaluating arithmetic expressions in Python"
   ]
  },
  {
   "cell_type": "code",
   "execution_count": null,
   "id": "babacd23",
   "metadata": {},
   "outputs": [],
   "source": [
    "(3*4)+5\n",
    "#This a simple arithmetic expression to mutiply then add integers"
   ]
  },
  {
   "cell_type": "code",
   "execution_count": null,
   "id": "4815dc17",
   "metadata": {},
   "outputs": [],
   "source": [
    "print(200/60)\n",
    "#This will convert 200 minutes to hours by diving by 60"
   ]
  },
  {
   "cell_type": "markdown",
   "id": "f3b4dc03",
   "metadata": {},
   "source": [
    "**Objectives:**\n",
    "\n",
    "- List 3 languages popular in data science\n",
    "- List 3 different libraries in data science\n",
    "- Convert from minutes to hours and explain with a comment\n"
   ]
  },
  {
   "cell_type": "markdown",
   "id": "28467d99",
   "metadata": {},
   "source": [
    "## Author\n",
    "\n",
    "Houston Parker"
   ]
  },
  {
   "cell_type": "code",
   "execution_count": null,
   "id": "2cbb2d05",
   "metadata": {},
   "outputs": [],
   "source": []
  }
 ],
 "metadata": {
  "kernelspec": {
   "display_name": "Python 3 (ipykernel)",
   "language": "python",
   "name": "python3"
  },
  "language_info": {
   "codemirror_mode": {
    "name": "ipython",
    "version": 3
   },
   "file_extension": ".py",
   "mimetype": "text/x-python",
   "name": "python",
   "nbconvert_exporter": "python",
   "pygments_lexer": "ipython3",
   "version": "3.11.5"
  }
 },
 "nbformat": 4,
 "nbformat_minor": 5
}
